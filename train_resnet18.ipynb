{
 "cells": [
  {
   "cell_type": "code",
   "execution_count": null,
   "metadata": {},
   "outputs": [],
   "source": [
    "%load_ext autoreload\n",
    "%autoreload 2\n",
    "import torch\n",
    "import torch.nn as nn\n",
    "from datasets import UnderwaterCreaturesMultiLabelDataset, collate_fn\n",
    "from torch.utils.data import DataLoader\n",
    "from models import SimpleCNN\n",
    "from trainer import Trainer\n"
   ]
  },
  {
   "cell_type": "code",
   "execution_count": 4,
   "metadata": {},
   "outputs": [
    {
     "ename": "NameError",
     "evalue": "name 'UnderwaterCreaturesDataset' is not defined",
     "output_type": "error",
     "traceback": [
      "\u001b[0;31m---------------------------------------------------------------------------\u001b[0m",
      "\u001b[0;31mNameError\u001b[0m                                 Traceback (most recent call last)",
      "Cell \u001b[0;32mIn[4], line 7\u001b[0m\n\u001b[1;32m      4\u001b[0m train_transform, test_transform \u001b[38;5;241m=\u001b[39m get_train_transform(), get_test_transform()\n\u001b[1;32m      6\u001b[0m \u001b[38;5;66;03m# Create datasets\u001b[39;00m\n\u001b[0;32m----> 7\u001b[0m train_dataset \u001b[38;5;241m=\u001b[39m \u001b[43mUnderwaterCreaturesDataset\u001b[49m(root_dir, split\u001b[38;5;241m=\u001b[39m\u001b[38;5;124m'\u001b[39m\u001b[38;5;124mtrain\u001b[39m\u001b[38;5;124m'\u001b[39m, transform\u001b[38;5;241m=\u001b[39mtrain_transform)\n\u001b[1;32m      8\u001b[0m valid_dataset \u001b[38;5;241m=\u001b[39m UnderwaterCreaturesDataset(root_dir, split\u001b[38;5;241m=\u001b[39m\u001b[38;5;124m'\u001b[39m\u001b[38;5;124mvalid\u001b[39m\u001b[38;5;124m'\u001b[39m, transform\u001b[38;5;241m=\u001b[39mtest_transform)\n\u001b[1;32m      9\u001b[0m test_dataset \u001b[38;5;241m=\u001b[39m UnderwaterCreaturesDataset(root_dir, split\u001b[38;5;241m=\u001b[39m\u001b[38;5;124m'\u001b[39m\u001b[38;5;124mtest\u001b[39m\u001b[38;5;124m'\u001b[39m, transform\u001b[38;5;241m=\u001b[39mtest_transform)\n",
      "\u001b[0;31mNameError\u001b[0m: name 'UnderwaterCreaturesDataset' is not defined"
     ]
    }
   ],
   "source": [
    "# Root directory of the dataset\n",
    "class_names = ['fish', 'jellyfish', 'penguin', 'puffin', 'shark', 'starfish', 'stingray']\n",
    "root_dir = 'aquarium-data-cots/aquarium_pretrain'\n",
    "train_transform, test_transform = get_train_transform(), get_test_transform()\n",
    "\n",
    "# Create datasets\n",
    "train_dataset = UnderwaterCreaturesDataset(root_dir, split='train', transform=train_transform)\n",
    "valid_dataset = UnderwaterCreaturesDataset(root_dir, split='valid', transform=test_transform)\n",
    "test_dataset = UnderwaterCreaturesDataset(root_dir, split='test', transform=test_transform)\n",
    "\n",
    "# Create data loaders\n",
    "batch_size = 32\n",
    "train_loader = DataLoader(train_dataset, batch_size=batch_size, shuffle=True, num_workers=4)\n",
    "valid_loader = DataLoader(valid_dataset, batch_size=batch_size, shuffle=False, num_workers=4)\n",
    "test_loader = DataLoader(test_dataset, batch_size=batch_size, shuffle=False, num_workers=4)"
   ]
  },
  {
   "cell_type": "code",
   "execution_count": null,
   "metadata": {},
   "outputs": [],
   "source": [
    "# Use a pre-trained ResNet18 model\n",
    "\n",
    "device = torch.device('cuda' if torch.cuda.is_available() else 'cpu')\n",
    "model = models.resnet18(pretrained=True)\n",
    "num_ftrs = model.fc.in_features\n",
    "model.fc = nn.Linear(num_ftrs, 7)  # 7 classes\n",
    "model = model.to(device)\n",
    "\n",
    "# Define loss function and optimizer\n",
    "criterion = nn.CrossEntropyLoss()\n",
    "optimizer = torch.optim.Adam(model.parameters(), lr=1e-4)"
   ]
  },
  {
   "cell_type": "code",
   "execution_count": null,
   "metadata": {},
   "outputs": [],
   "source": [
    "# Initialize the Trainer\n",
    "trainer = Trainer(model, device, criterion, optimizer)\n",
    "# Train the model\n",
    "num_epochs = 10\n",
    "trainer.train(train_loader, valid_loader, num_epochs=num_epochs)\n",
    "# Plot training metrics\n",
    "trainer.plot_metrics()\n",
    "# Test the model\n",
    "trainer.test(test_loader)"
   ]
  },
  {
   "cell_type": "code",
   "execution_count": null,
   "metadata": {},
   "outputs": [],
   "source": [
    "# Plot confusion matrix on test set\n",
    "trainer.plot_confusion_matrix(test_loader, class_names)\n",
    "# Visualize predictions on test set\n",
    "trainer.visualize_predictions(test_loader, class_names, num_images=8)"
   ]
  }
 ],
 "metadata": {
  "kernelspec": {
   "display_name": "Python 3",
   "language": "python",
   "name": "python3"
  },
  "language_info": {
   "codemirror_mode": {
    "name": "ipython",
    "version": 3
   },
   "file_extension": ".py",
   "mimetype": "text/x-python",
   "name": "python",
   "nbconvert_exporter": "python",
   "pygments_lexer": "ipython3",
   "version": "3.10.15"
  }
 },
 "nbformat": 4,
 "nbformat_minor": 2
}
