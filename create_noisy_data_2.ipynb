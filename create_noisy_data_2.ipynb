{
 "cells": [
  {
   "cell_type": "code",
   "execution_count": 25,
   "metadata": {},
   "outputs": [],
   "source": [
    "import os\n",
    "\n",
    "from PIL import Image, ImageEnhance, ImageFilter #image enhance and filter just for the synthetic noising\n",
    "\n",
    "import numpy as np\n",
    "import random\n",
    "\n",
    "import cv2 # for synthetically noising\n",
    "\n",
    "from matplotlib import pyplot as plt #for visualizing "
   ]
  },
  {
   "cell_type": "markdown",
   "metadata": {},
   "source": [
    "### Sub functions for distorting images"
   ]
  },
  {
   "cell_type": "code",
   "execution_count": 26,
   "metadata": {},
   "outputs": [],
   "source": [
    "def add_color_cast(np_image):\n",
    "    blue_tint = random.uniform(0.9, 2) #changed\n",
    "    green_tint = random.uniform(0.9, 2) #changed\n",
    "    red_tint = random.uniform(0.25, 1.0) #changed\n",
    "    np_image[:, :, 0] *= blue_tint\n",
    "    np_image[:, :, 1] *= green_tint \n",
    "    np_image[:, :, 2] *= red_tint\n",
    "    return np.clip(np_image, 0, 255)"
   ]
  },
  {
   "cell_type": "code",
   "execution_count": 27,
   "metadata": {},
   "outputs": [],
   "source": [
    "def add_gaussian_blur(image):\n",
    "    blur_radius = random.uniform(3, 5) #changed\n",
    "    return image.filter(ImageFilter.GaussianBlur(radius=blur_radius))"
   ]
  },
  {
   "cell_type": "code",
   "execution_count": 28,
   "metadata": {},
   "outputs": [],
   "source": [
    "def add_gaussian_noise(np_image):\n",
    "    noise_std = random.uniform(20, 60)\n",
    "    noise = np.random.normal(0, noise_std, np_image.shape).astype(np.float32)\n",
    "    return np.clip(np_image + noise, 0, 255)"
   ]
  },
  {
   "cell_type": "code",
   "execution_count": 29,
   "metadata": {},
   "outputs": [],
   "source": [
    "def adjust_brightness(image):\n",
    "    brightness_factor = random.uniform(0.5, 2)\n",
    "    enhancer = ImageEnhance.Brightness(image)\n",
    "    return enhancer.enhance(brightness_factor)"
   ]
  },
  {
   "cell_type": "code",
   "execution_count": 30,
   "metadata": {},
   "outputs": [],
   "source": [
    "def add_speckles(np_image):\n",
    "    \"\"\"Adds translucent elliptical speckles with random distribution.\"\"\"\n",
    "    speckle_mask = np.zeros_like(np_image, dtype=np.float32)\n",
    "    speckle_mask = cv2.GaussianBlur(speckle_mask, (3, 3), sigmaX=1)\n",
    "\n",
    "    speckle_density = random.randint(20, 500)\n",
    "    distribution_type = random.choice([\"uniform\", \"concentrated\"])\n",
    "    random_center_x = random.randint(np_image.shape[1] // 4, 3 * np_image.shape[1] // 4)\n",
    "    random_center_y = random.randint(np_image.shape[0] // 4, 3 * np_image.shape[0] // 4)\n",
    "\n",
    "    for _ in range(speckle_density):\n",
    "        if distribution_type == \"uniform\":\n",
    "            x = random.randint(0, np_image.shape[1] - 1)\n",
    "            y = random.randint(0, np_image.shape[0] - 1)\n",
    "        else:  # Concentrated\n",
    "            spread_x = random.randint(100, 300)\n",
    "            spread_y = random.randint(100, 300)\n",
    "            x = random.randint(random_center_x - spread_x, random_center_x + spread_x)\n",
    "            y = random.randint(random_center_y - spread_y, random_center_y + spread_y)\n",
    "            x = np.clip(x, 0, np_image.shape[1] - 1)\n",
    "            y = np.clip(y, 0, np_image.shape[0] - 1)\n",
    "\n",
    "        size_x = random.randint(3, 6)\n",
    "        size_y = random.randint(3, 6) # this would be used if we want the speckles to be elliptical\n",
    "        intensity = random.uniform(25, 100)\n",
    "\n",
    "        for i in range(-size_y, size_y):\n",
    "            for j in range(-size_x, size_x):\n",
    "                if ((j / size_x)**2 + (i / size_y)**2) <= 1:\n",
    "                    if 0 <= y + i < np_image.shape[0] and 0 <= x + j < np_image.shape[1]:\n",
    "                        speckle_mask[y + i, x + j] += intensity\n",
    "\n",
    "    return np.clip(np_image + speckle_mask, 0, 255)"
   ]
  },
  {
   "cell_type": "code",
   "execution_count": 31,
   "metadata": {},
   "outputs": [],
   "source": [
    "def apply_motion_blur(image, kernel_size=20, angle=0):\n",
    "    \"\"\"\n",
    "    Applies motion blur to the input image in any direction.\n",
    "\n",
    "    Parameters:\n",
    "    - image (PIL.Image or NumPy array): The input image.\n",
    "    - kernel_size (int): The size of the motion blur kernel. Higher values create stronger blur.\n",
    "    - angle (float): The angle of the motion blur in degrees (0 = horizontal, 90 = vertical).\n",
    "\n",
    "    Returns:\n",
    "    - NumPy array: The motion-blurred image.\n",
    "    \"\"\"\n",
    "    if isinstance(image, Image.Image):\n",
    "        np_image = np.array(image)\n",
    "    else:\n",
    "        np_image = image\n",
    "\n",
    "    # initial kernel (horizontal)\n",
    "    kernel = np.zeros((kernel_size, kernel_size))\n",
    "    kernel[kernel_size // 2, :] = np.ones(kernel_size)\n",
    "\n",
    "    kernel /= kernel_size\n",
    "\n",
    "    # rotate kernel\n",
    "    rotation_matrix = cv2.getRotationMatrix2D((kernel_size // 2, kernel_size // 2), angle, 1)\n",
    "    rotated_kernel = cv2.warpAffine(kernel, rotation_matrix, (kernel_size, kernel_size))\n",
    "\n",
    "    blurred_image = cv2.filter2D(np_image, -1, rotated_kernel)\n",
    "\n",
    "    return blurred_image"
   ]
  },
  {
   "cell_type": "code",
   "execution_count": 32,
   "metadata": {},
   "outputs": [],
   "source": [
    "noising_functions_list = ['add_color_cast', 'add_gaussian_blur', 'add_gaussian_noise', 'adjust_brightness', 'add_speckles', 'apply_motion_blur']"
   ]
  },
  {
   "cell_type": "markdown",
   "metadata": {},
   "source": [
    "### Encompassing function that applies the above underwater effects"
   ]
  },
  {
   "cell_type": "code",
   "execution_count": 33,
   "metadata": {},
   "outputs": [],
   "source": [
    "def apply_random_underwater_effects(image):\n",
    "    np_image = np.array(image).astype(np.float32)\n",
    "\n",
    "    if random.random() < 0.9:\n",
    "        np_image = add_color_cast(np_image)\n",
    "\n",
    "    if random.random() < 0.8:\n",
    "        np_image = add_gaussian_noise(np_image)\n",
    "\n",
    "    if random.random() < 0.7:\n",
    "        np_image = add_speckles(np_image)\n",
    "\n",
    "    image = Image.fromarray(np_image.astype(np.uint8))\n",
    "\n",
    "    if random.random() < 0.8:\n",
    "        image = add_gaussian_blur(image)\n",
    "\n",
    "    if random.random() < 0.7:\n",
    "        image = adjust_brightness(image)\n",
    "\n",
    "    if random.random() < 0.5:\n",
    "        image = apply_motion_blur(image, kernel_size = int((random.random()*30) + 10), angle=random.random() * 90) #changed \n",
    "    \n",
    "    return image"
   ]
  },
  {
   "cell_type": "markdown",
   "metadata": {},
   "source": [
    "### Create Noised Images in root directory paths"
   ]
  },
  {
   "cell_type": "code",
   "execution_count": 34,
   "metadata": {},
   "outputs": [],
   "source": [
    "root_dir = 'datasets/aquarium-data-cots/aquarium_pretrain' # Double check this is correct since adding to the VM\n",
    "\n",
    "splits = ['train', 'test','valid']"
   ]
  },
  {
   "cell_type": "markdown",
   "metadata": {},
   "source": [
    "RUN the cell below ONCE ONLY to create NOISY images. COMMENT OUT when done, there will be output. "
   ]
  },
  {
   "cell_type": "code",
   "execution_count": 35,
   "metadata": {},
   "outputs": [
    {
     "name": "stdout",
     "output_type": "stream",
     "text": [
      "448 Noisy images created for train images\n",
      "63 Noisy images created for test images\n",
      "127 Noisy images created for valid images\n"
     ]
    }
   ],
   "source": [
    "#RUN THIS CELL ONCE ONLY TO CREATE NOISY IMAGES. COMMENT OUT WHEN DONE. \n",
    "max_test_images = 10\n",
    "\n",
    "for split in splits:\n",
    "    images_dir = os.path.join(root_dir, split, 'images')\n",
    "    noisy_images_dir = os.path.join(root_dir, split, 'noisy_images2')\n",
    "\n",
    "    if not os.path.exists(noisy_images_dir):\n",
    "        os.makedirs(noisy_images_dir)\n",
    "\n",
    "    processed_count = 0\n",
    "\n",
    "    for file_name in os.listdir(images_dir):\n",
    "        if file_name.endswith('.jpg') or file_name.endswith('.png'):\n",
    "            image_path = os.path.join(images_dir, file_name)\n",
    "            image = Image.open(image_path).convert(\"RGB\")\n",
    "\n",
    "            noisy_image = apply_random_underwater_effects(image) # underwater effects applied here\n",
    "            if isinstance(noisy_image, np.ndarray):\n",
    "                noisy_image = Image.fromarray(noisy_image)\n",
    "\n",
    "            noisy_image.save(os.path.join(noisy_images_dir, file_name))\n",
    "\n",
    "            ''' Uncomment this section to test on a smaller batch of images '''\n",
    "            # processed_count += 1\n",
    "            # if processed_count >= max_test_images:\n",
    "            #     break\n",
    "        num_images = len(os.listdir(noisy_images_dir))    \n",
    "    print(f\"{num_images} Noisy images created for {split} images\")"
   ]
  },
  {
   "cell_type": "markdown",
   "metadata": {},
   "source": [
    "### Visualize some images"
   ]
  },
  {
   "cell_type": "code",
   "execution_count": null,
   "metadata": {},
   "outputs": [],
   "source": []
  }
 ],
 "metadata": {
  "kernelspec": {
   "display_name": "Python (deepl)",
   "language": "python",
   "name": "deepl"
  },
  "language_info": {
   "codemirror_mode": {
    "name": "ipython",
    "version": 3
   },
   "file_extension": ".py",
   "mimetype": "text/x-python",
   "name": "python",
   "nbconvert_exporter": "python",
   "pygments_lexer": "ipython3",
   "version": "3.10.15"
  }
 },
 "nbformat": 4,
 "nbformat_minor": 2
}
