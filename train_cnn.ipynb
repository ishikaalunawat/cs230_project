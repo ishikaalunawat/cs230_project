{
 "cells": [
  {
   "cell_type": "code",
   "execution_count": null,
   "metadata": {},
   "outputs": [],
   "source": [
    "import torch\n",
    "import torch.nn as nn\n",
    "from datasets import UnderwaterCreaturesDataset, get_train_transform, get_test_transform\n",
    "from torch.utils.data import DataLoader\n",
    "from models import SimpleCNN\n",
    "from trainer import Trainer"
   ]
  },
  {
   "cell_type": "code",
   "execution_count": null,
   "metadata": {},
   "outputs": [],
   "source": [
    "# Root directory of the dataset\n",
    "class_names = ['fish', 'jellyfish', 'penguin', 'puffin', 'shark', 'starfish', 'stingray']\n",
    "root_dir = 'aquarium-data-cots/aquarium_pretrain'\n",
    "train_transform, test_transform = get_train_transform(), get_test_transform()\n",
    "\n",
    "# Create datasets\n",
    "train_dataset = UnderwaterCreaturesDataset(root_dir, split='train', transform=train_transform)\n",
    "valid_dataset = UnderwaterCreaturesDataset(root_dir, split='valid', transform=test_transform)\n",
    "test_dataset = UnderwaterCreaturesDataset(root_dir, split='test', transform=test_transform)\n",
    "\n",
    "# Create data loaders\n",
    "batch_size = 32\n",
    "train_loader = DataLoader(train_dataset, batch_size=batch_size, shuffle=True, num_workers=4)\n",
    "valid_loader = DataLoader(valid_dataset, batch_size=batch_size, shuffle=False, num_workers=4)\n",
    "test_loader = DataLoader(test_dataset, batch_size=batch_size, shuffle=False, num_workers=4)"
   ]
  },
  {
   "cell_type": "code",
   "execution_count": null,
   "metadata": {},
   "outputs": [],
   "source": [
    "# Define the model\n",
    "device = torch.device('cuda' if torch.cuda.is_available() else 'cpu')\n",
    "\n",
    "model = SimpleCNN(num_classes=len(class_names))\n",
    "model = model.to(device)\n",
    "\n",
    "# Define loss function and optimizer\n",
    "criterion = nn.CrossEntropyLoss()\n",
    "optimizer = torch.optim.Adam(model.parameters(), lr=1e-4)"
   ]
  },
  {
   "cell_type": "markdown",
   "metadata": {},
   "source": []
  },
  {
   "cell_type": "code",
   "execution_count": null,
   "metadata": {},
   "outputs": [],
   "source": [
    "# Initialize the Trainer\n",
    "trainer = Trainer(model, device, criterion, optimizer)\n",
    "# Train the model\n",
    "num_epochs = 10\n",
    "trainer.train(train_loader, valid_loader, num_epochs=num_epochs)\n",
    "# Plot training metrics\n",
    "trainer.plot_metrics()\n",
    "# Test the model\n",
    "trainer.test(test_loader)"
   ]
  },
  {
   "cell_type": "code",
   "execution_count": null,
   "metadata": {},
   "outputs": [],
   "source": [
    "# Plot confusion matrix on test set\n",
    "trainer.plot_confusion_matrix(test_loader, class_names)\n",
    "# Visualize predictions on test set\n",
    "trainer.visualize_predictions(test_loader, class_names, num_images=8)"
   ]
  }
 ],
 "metadata": {
  "kernelspec": {
   "display_name": "Python 3",
   "language": "python",
   "name": "python3"
  },
  "language_info": {
   "codemirror_mode": {
    "name": "ipython",
    "version": 3
   },
   "file_extension": ".py",
   "mimetype": "text/x-python",
   "name": "python",
   "nbconvert_exporter": "python",
   "pygments_lexer": "ipython3",
   "version": "3.10.15"
  }
 },
 "nbformat": 4,
 "nbformat_minor": 2
}
