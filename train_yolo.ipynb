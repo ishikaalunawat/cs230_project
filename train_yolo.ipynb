{
 "cells": [
  {
   "cell_type": "code",
   "execution_count": 6,
   "metadata": {},
   "outputs": [],
   "source": [
    "import torch\n",
    "import matplotlib.pyplot as plt\n",
    "from ultralytics import YOLO\n",
    "from datasets import YOLODataset\n",
    "from torch.utils.data import DataLoader\n",
    "from collections import Counter"
   ]
  },
  {
   "cell_type": "code",
   "execution_count": null,
   "metadata": {},
   "outputs": [],
   "source": [
    "# Root directory of the dataset\n",
    "class_names = ['fish', 'jellyfish', 'penguin', 'puffin', 'shark', 'starfish', 'stingray']\n",
    "num_classes = len(class_names)\n",
    "root_dir = 'datasets/aquarium-data-cots/aquarium_pretrain'\n",
    "\n",
    "# Create datasets\n",
    "train_dataset = YOLODataset(root_dir, split='train', num_classes=num_classes)\n",
    "valid_dataset = YOLODataset(root_dir, split='valid', num_classes=num_classes)\n",
    "test_dataset = YOLODataset(root_dir, split='test', num_classes=num_classes)\n",
    "\n",
    "# Custom sampler for balanced class representation\n",
    "train_sampler = train_dataset.get_sampler()  \n",
    "\n",
    "# Create data loaders with the custom collate function to track class counts\n",
    "batch_size = 32\n",
    "train_loader = DataLoader(train_dataset, batch_size=batch_size, sampler=train_sampler, num_workers=4)\n",
    "valid_loader = DataLoader(valid_dataset, batch_size=batch_size, shuffle=False, num_workers=4)\n",
    "test_loader = DataLoader(test_dataset, batch_size=batch_size, shuffle=False, num_workers=4)\n",
    "print(f\"Training samples: {len(train_dataset)}\")\n",
    "print(f\"Validation samples: {len(valid_dataset)}\")\n",
    "print(f\"Test samples: {len(test_dataset)}\")\n"
   ]
  },
  {
   "cell_type": "markdown",
   "metadata": {},
   "source": [
    "## Visualization"
   ]
  },
  {
   "cell_type": "code",
   "execution_count": 8,
   "metadata": {},
   "outputs": [],
   "source": [
    "def visualize_augmented_images(dataset, num_samples=5):\n",
    "    fig, axes = plt.subplots(1, num_samples, figsize=(15, 15))\n",
    "    \n",
    "    for i in range(num_samples):\n",
    "        image, labels, bboxes = dataset[i]\n",
    "        \n",
    "        image = image.permute(1, 2, 0).numpy()  # Change from CxHxW to HxWxC, tensor to numpy for plotting\n",
    "        \n",
    "        ax = axes[i]\n",
    "        ax.imshow(image)\n",
    "        \n",
    "        # Draw bounding boxes\n",
    "        for bbox in bboxes:\n",
    "            xmin, ymin, xmax, ymax, class_id = bbox\n",
    "            ax.add_patch(plt.Rectangle((xmin, ymin), xmax - xmin, ymax - ymin, \n",
    "                                      edgecolor='red', facecolor='none', linewidth=2))\n",
    "            ax.text(xmin, ymin, f'Class {int(class_id)}', color='white', fontsize=10, \n",
    "                    bbox=dict(facecolor='red', alpha=0.5))\n",
    "        \n",
    "        ax.axis('off') \n",
    "    \n",
    "    plt.show()"
   ]
  },
  {
   "cell_type": "code",
   "execution_count": null,
   "metadata": {},
   "outputs": [],
   "source": [
    "visualize_augmented_images(train_dataset, num_samples=5)"
   ]
  },
  {
   "cell_type": "markdown",
   "metadata": {},
   "source": [
    "## Model"
   ]
  },
  {
   "cell_type": "code",
   "execution_count": 10,
   "metadata": {},
   "outputs": [],
   "source": [
    "# Define the model\n",
    "device = torch.device('cuda' if torch.cuda.is_available() else 'cpu')\n",
    "\n",
    "model = YOLO('yolov5su.pt')\n",
    "model = model.to(device)"
   ]
  },
  {
   "cell_type": "markdown",
   "metadata": {},
   "source": [
    "## Train"
   ]
  },
  {
   "cell_type": "code",
   "execution_count": null,
   "metadata": {},
   "outputs": [],
   "source": [
    "num_epochs = 25\n",
    "\n",
    "# YOLO will assess the model on the validation set in this training block\n",
    "\n",
    "model.train(\n",
    "    data='datasets/aquarium-data-cots/aquarium_pretrain/data.yaml', \n",
    "    epochs=num_epochs, \n",
    "    imgsz=640,  \n",
    "    save_period=1,  # Save model every epoch\n",
    "    save_dir='runs/train', \n",
    "    \n",
    ")"
   ]
  },
  {
   "cell_type": "markdown",
   "metadata": {},
   "source": [
    "## Inference on Test Set"
   ]
  },
  {
   "cell_type": "code",
   "execution_count": 14,
   "metadata": {},
   "outputs": [
    {
     "name": "stdout",
     "output_type": "stream",
     "text": [
      "Ultralytics 8.3.27 🚀 Python-3.10.15 torch-2.5.1+cu124 CUDA:0 (NVIDIA L4, 22478MiB)\n"
     ]
    },
    {
     "name": "stderr",
     "output_type": "stream",
     "text": [
      "\u001b[34m\u001b[1mval: \u001b[0mScanning /home/ubuntu/cs230_hannah/cs230_project/datasets/aquarium-data-cots/aquarium_pretrain/test/labels.cache... 63 images, 0 backgrounds, 0 corrupt: 100%|██████████| 63/63 [00:00<?, ?it/s]\n",
      "                 Class     Images  Instances      Box(P          R      mAP50  mAP50-95): 100%|██████████| 4/4 [00:01<00:00,  2.13it/s]\n"
     ]
    },
    {
     "name": "stdout",
     "output_type": "stream",
     "text": [
      "                   all         63        584      0.913      0.648      0.794       0.56\n",
      "                  fish         30        249      0.821      0.643      0.755      0.525\n",
      "             jellyfish         11        154      0.887      0.818      0.871      0.627\n",
      "               penguin          7         82      0.907      0.598      0.768      0.403\n",
      "                puffin          6         35      0.812      0.371      0.614      0.361\n",
      "                 shark         14         38      0.964      0.711       0.85      0.673\n",
      "              starfish          5         11          1      0.727      0.864      0.649\n",
      "              stingray         10         15          1      0.667      0.833      0.685\n",
      "Speed: 0.4ms preprocess, 2.7ms inference, 0.0ms loss, 1.9ms postprocess per image\n",
      "Saving runs/test/predictions.json...\n",
      "Results saved to \u001b[1mruns/test\u001b[0m\n"
     ]
    }
   ],
   "source": [
    "data_yaml_path = 'datasets/aquarium-data-cots/aquarium_pretrain/data.yaml'\n",
    "\n",
    "# Run inference on the test set\n",
    "\n",
    "results = model.val(\n",
    "    data='datasets/aquarium-data-cots/aquarium_pretrain/data.yaml', \n",
    "    conf=0.5,              # Confidence threshold for predictions\n",
    "    save_json=True,        # Save results in COCO JSON format\n",
    "    save_txt=True,         # Save predictions as YOLO-format .txt files\n",
    "    split = 'test',\n",
    "    project='runs',\n",
    "    name='test'\n",
    ")"
   ]
  },
  {
   "cell_type": "markdown",
   "metadata": {},
   "source": [
    "## Inference on Video"
   ]
  },
  {
   "cell_type": "code",
   "execution_count": 15,
   "metadata": {},
   "outputs": [],
   "source": [
    "model = YOLO('runs/detect/train5 (newest)/weights/best.pt')"
   ]
  },
  {
   "cell_type": "code",
   "execution_count": null,
   "metadata": {},
   "outputs": [],
   "source": [
    "results = model.predict(\n",
    "    source='/home/ubuntu/cs230_hannah/cs230_project/datasets/aquarium-data-cots/aquarium_pretrain/aquarium.mp4',  \n",
    "    conf=0.5,                    # Confidence threshold for detections\n",
    "    save=True,                   # Save the output video with annotations\n",
    "    save_txt=True,               # Save detections in YOLO-format text files\n",
    "    save_conf=True,              # Save confidence scores in text files\n",
    "    project='runs',              # Directory to save results\n",
    "    name='video_detection',      # Subdirectory name\n",
    "    exist_ok=True,               # Overwrite existing results if directory exists\n",
    ")"
   ]
  }
 ],
 "metadata": {
  "kernelspec": {
   "display_name": "Python 3",
   "language": "python",
   "name": "python3"
  },
  "language_info": {
   "codemirror_mode": {
    "name": "ipython",
    "version": 3
   },
   "file_extension": ".py",
   "mimetype": "text/x-python",
   "name": "python",
   "nbconvert_exporter": "python",
   "pygments_lexer": "ipython3",
   "version": "3.10.15"
  }
 },
 "nbformat": 4,
 "nbformat_minor": 2
}
