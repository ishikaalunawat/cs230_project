{
 "cells": [
  {
   "cell_type": "code",
   "execution_count": 20,
   "metadata": {},
   "outputs": [],
   "source": [
    "import torch\n",
    "import matplotlib.pyplot as plt\n",
    "from ultralytics import YOLO\n",
    "from datasets import YOLODataset\n",
    "from torch.utils.data import DataLoader"
   ]
  },
  {
   "cell_type": "code",
   "execution_count": 21,
   "metadata": {},
   "outputs": [
    {
     "name": "stdout",
     "output_type": "stream",
     "text": [
      "Training samples: 448\n",
      "Validation samples: 127\n",
      "Test samples: 63\n"
     ]
    }
   ],
   "source": [
    "# Root directory of the dataset\n",
    "class_names = ['fish', 'jellyfish', 'penguin', 'puffin', 'shark', 'starfish', 'stingray']\n",
    "num_classes = len(class_names)\n",
    "root_dir = 'datasets/aquarium-data-cots/aquarium_pretrain'\n",
    "\n",
    "# Create datasets\n",
    "train_dataset = YOLODataset(root_dir, split='train', num_classes=num_classes)\n",
    "valid_dataset = YOLODataset(root_dir, split='valid', num_classes=num_classes)\n",
    "test_dataset = YOLODataset(root_dir, split='test', num_classes=num_classes)\n",
    "\n",
    "# Create data loaders\n",
    "batch_size = 32\n",
    "train_loader = DataLoader(train_dataset, batch_size=batch_size, shuffle=True, num_workers=4)\n",
    "valid_loader = DataLoader(valid_dataset, batch_size=batch_size, shuffle=False, num_workers=4)\n",
    "test_loader = DataLoader(test_dataset, batch_size=batch_size, shuffle=False, num_workers=4)\n",
    "\n",
    "print(f\"Training samples: {len(train_dataset)}\")\n",
    "print(f\"Validation samples: {len(valid_dataset)}\")\n",
    "print(f\"Test samples: {len(test_dataset)}\")"
   ]
  },
  {
   "cell_type": "markdown",
   "metadata": {},
   "source": [
    "## Visualization"
   ]
  },
  {
   "cell_type": "code",
   "execution_count": null,
   "metadata": {},
   "outputs": [],
   "source": [
    "def visualize_augmented_images(dataset, num_samples=5):\n",
    "    fig, axes = plt.subplots(1, num_samples, figsize=(15, 15))\n",
    "    \n",
    "    for i in range(num_samples):\n",
    "        image, labels, bboxes = dataset[i]\n",
    "        \n",
    "        image = image.permute(1, 2, 0).numpy()  # Change from CxHxW to HxWxC, tensor to numpy for plotting\n",
    "        \n",
    "        ax = axes[i]\n",
    "        ax.imshow(image)\n",
    "        \n",
    "        # Draw bounding boxes\n",
    "        for bbox in bboxes:\n",
    "            xmin, ymin, xmax, ymax, class_id = bbox\n",
    "            ax.add_patch(plt.Rectangle((xmin, ymin), xmax - xmin, ymax - ymin, \n",
    "                                      edgecolor='red', facecolor='none', linewidth=2))\n",
    "            ax.text(xmin, ymin, f'Class {int(class_id)}', color='white', fontsize=10, \n",
    "                    bbox=dict(facecolor='red', alpha=0.5))\n",
    "        \n",
    "        ax.axis('off') \n",
    "    \n",
    "    plt.show()"
   ]
  },
  {
   "cell_type": "code",
   "execution_count": null,
   "metadata": {},
   "outputs": [],
   "source": [
    "visualize_augmented_images(train_dataset, num_samples=5)"
   ]
  },
  {
   "cell_type": "markdown",
   "metadata": {},
   "source": [
    "## Model"
   ]
  },
  {
   "cell_type": "code",
   "execution_count": 3,
   "metadata": {},
   "outputs": [],
   "source": [
    "# Define the model\n",
    "device = torch.device('cuda' if torch.cuda.is_available() else 'cpu')\n",
    "\n",
    "model = YOLO('yolov5su.pt')\n",
    "model = model.to(device)"
   ]
  },
  {
   "cell_type": "markdown",
   "metadata": {},
   "source": [
    "## Train"
   ]
  },
  {
   "cell_type": "code",
   "execution_count": null,
   "metadata": {},
   "outputs": [],
   "source": [
    "num_epochs = 25\n",
    "\n",
    "model.train(\n",
    "    data='datasets/aquarium-data-cots/aquarium_pretrain/data.yaml', \n",
    "    epochs=num_epochs, \n",
    "    imgsz=640,  \n",
    "    save_period=1,  # Save model every epoch\n",
    "    # hyp='datasets/aquarium-data-cots/aquarium_pretrain/hyp.yaml', # Hyperparameter file\n",
    "    save_dir='runs/train',  # Directory to save training results\n",
    ")"
   ]
  },
  {
   "cell_type": "markdown",
   "metadata": {},
   "source": [
    "## Validation Set"
   ]
  },
  {
   "cell_type": "code",
   "execution_count": null,
   "metadata": {},
   "outputs": [],
   "source": [
    "data_yaml_path = 'datasets/aquarium-data-cots/aquarium_pretrain/data.yaml'\n",
    "\n",
    "# Run validation (inference) on the validation set\n",
    "results = model.val(\n",
    "    data=data_yaml_path,  # Path to the data.yaml file\n",
    "    conf=0.5,              # Confidence threshold for predictions\n",
    "    save_json=True,        # Optionally save results in COCO JSON format\n",
    "    save_txt=True,         # Optionally save predictions as YOLO-format .txt files\n",
    ")"
   ]
  }
 ],
 "metadata": {
  "kernelspec": {
   "display_name": "Python 3",
   "language": "python",
   "name": "python3"
  },
  "language_info": {
   "codemirror_mode": {
    "name": "ipython",
    "version": 3
   },
   "file_extension": ".py",
   "mimetype": "text/x-python",
   "name": "python",
   "nbconvert_exporter": "python",
   "pygments_lexer": "ipython3",
   "version": "3.10.15"
  }
 },
 "nbformat": 4,
 "nbformat_minor": 2
}
